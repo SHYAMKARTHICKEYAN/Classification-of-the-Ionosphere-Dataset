{
 "cells": [
  {
   "cell_type": "code",
   "execution_count": 1,
   "metadata": {
    "id": "sYZVnbBvLtPE"
   },
   "outputs": [],
   "source": [
    "from sklearn.model_selection import train_test_split\n",
    "from sklearn.preprocessing import StandardScaler\n",
    "from sklearn.metrics import confusion_matrix,classification_report,accuracy_score\n",
    "import pandas as pd\n",
    "import numpy as np\n",
    "import matplotlib.pyplot as plt \n",
    "import seaborn as sns"
   ]
  },
  {
   "cell_type": "code",
   "execution_count": 2,
   "metadata": {
    "id": "M_5XH3ZGMw3d"
   },
   "outputs": [],
   "source": [
    "ions=pd.read_csv(\"https://archive.ics.uci.edu/ml/machine-learning-databases/ionosphere/ionosphere.data\")"
   ]
  },
  {
   "cell_type": "code",
   "execution_count": 3,
   "metadata": {
    "id": "fzmB8WX5N83t"
   },
   "outputs": [],
   "source": [
    "ions.columns=['column1','column2','column3','column4','column5','column6','column7','column8','column9','column10','column11','column12','column13','column14','column15','column16','column17','column18','column19','column20','column21','column22','column23','column24','column25','column26','column27','column28','column29','column30','column31','column32','column33','column34','column35']"
   ]
  },
  {
   "cell_type": "code",
   "execution_count": 4,
   "metadata": {
    "colab": {
     "base_uri": "https://localhost:8080/",
     "height": 487
    },
    "id": "wUvKiASaSDjN",
    "outputId": "5ce47e5a-9e74-48ff-cd1f-3956f1ca5901"
   },
   "outputs": [
    {
     "data": {
      "text/html": [
       "<div>\n",
       "<style scoped>\n",
       "    .dataframe tbody tr th:only-of-type {\n",
       "        vertical-align: middle;\n",
       "    }\n",
       "\n",
       "    .dataframe tbody tr th {\n",
       "        vertical-align: top;\n",
       "    }\n",
       "\n",
       "    .dataframe thead th {\n",
       "        text-align: right;\n",
       "    }\n",
       "</style>\n",
       "<table border=\"1\" class=\"dataframe\">\n",
       "  <thead>\n",
       "    <tr style=\"text-align: right;\">\n",
       "      <th></th>\n",
       "      <th>column1</th>\n",
       "      <th>column2</th>\n",
       "      <th>column3</th>\n",
       "      <th>column4</th>\n",
       "      <th>column5</th>\n",
       "      <th>column6</th>\n",
       "      <th>column7</th>\n",
       "      <th>column8</th>\n",
       "      <th>column9</th>\n",
       "      <th>column10</th>\n",
       "      <th>...</th>\n",
       "      <th>column26</th>\n",
       "      <th>column27</th>\n",
       "      <th>column28</th>\n",
       "      <th>column29</th>\n",
       "      <th>column30</th>\n",
       "      <th>column31</th>\n",
       "      <th>column32</th>\n",
       "      <th>column33</th>\n",
       "      <th>column34</th>\n",
       "      <th>column35</th>\n",
       "    </tr>\n",
       "  </thead>\n",
       "  <tbody>\n",
       "    <tr>\n",
       "      <th>0</th>\n",
       "      <td>1</td>\n",
       "      <td>0</td>\n",
       "      <td>1.00000</td>\n",
       "      <td>-0.18829</td>\n",
       "      <td>0.93035</td>\n",
       "      <td>-0.36156</td>\n",
       "      <td>-0.10868</td>\n",
       "      <td>-0.93597</td>\n",
       "      <td>1.00000</td>\n",
       "      <td>-0.04549</td>\n",
       "      <td>...</td>\n",
       "      <td>-0.26569</td>\n",
       "      <td>-0.20468</td>\n",
       "      <td>-0.18401</td>\n",
       "      <td>-0.19040</td>\n",
       "      <td>-0.11593</td>\n",
       "      <td>-0.16626</td>\n",
       "      <td>-0.06288</td>\n",
       "      <td>-0.13738</td>\n",
       "      <td>-0.02447</td>\n",
       "      <td>b</td>\n",
       "    </tr>\n",
       "    <tr>\n",
       "      <th>1</th>\n",
       "      <td>1</td>\n",
       "      <td>0</td>\n",
       "      <td>1.00000</td>\n",
       "      <td>-0.03365</td>\n",
       "      <td>1.00000</td>\n",
       "      <td>0.00485</td>\n",
       "      <td>1.00000</td>\n",
       "      <td>-0.12062</td>\n",
       "      <td>0.88965</td>\n",
       "      <td>0.01198</td>\n",
       "      <td>...</td>\n",
       "      <td>-0.40220</td>\n",
       "      <td>0.58984</td>\n",
       "      <td>-0.22145</td>\n",
       "      <td>0.43100</td>\n",
       "      <td>-0.17365</td>\n",
       "      <td>0.60436</td>\n",
       "      <td>-0.24180</td>\n",
       "      <td>0.56045</td>\n",
       "      <td>-0.38238</td>\n",
       "      <td>g</td>\n",
       "    </tr>\n",
       "    <tr>\n",
       "      <th>2</th>\n",
       "      <td>1</td>\n",
       "      <td>0</td>\n",
       "      <td>1.00000</td>\n",
       "      <td>-0.45161</td>\n",
       "      <td>1.00000</td>\n",
       "      <td>1.00000</td>\n",
       "      <td>0.71216</td>\n",
       "      <td>-1.00000</td>\n",
       "      <td>0.00000</td>\n",
       "      <td>0.00000</td>\n",
       "      <td>...</td>\n",
       "      <td>0.90695</td>\n",
       "      <td>0.51613</td>\n",
       "      <td>1.00000</td>\n",
       "      <td>1.00000</td>\n",
       "      <td>-0.20099</td>\n",
       "      <td>0.25682</td>\n",
       "      <td>1.00000</td>\n",
       "      <td>-0.32382</td>\n",
       "      <td>1.00000</td>\n",
       "      <td>b</td>\n",
       "    </tr>\n",
       "    <tr>\n",
       "      <th>3</th>\n",
       "      <td>1</td>\n",
       "      <td>0</td>\n",
       "      <td>1.00000</td>\n",
       "      <td>-0.02401</td>\n",
       "      <td>0.94140</td>\n",
       "      <td>0.06531</td>\n",
       "      <td>0.92106</td>\n",
       "      <td>-0.23255</td>\n",
       "      <td>0.77152</td>\n",
       "      <td>-0.16399</td>\n",
       "      <td>...</td>\n",
       "      <td>-0.65158</td>\n",
       "      <td>0.13290</td>\n",
       "      <td>-0.53206</td>\n",
       "      <td>0.02431</td>\n",
       "      <td>-0.62197</td>\n",
       "      <td>-0.05707</td>\n",
       "      <td>-0.59573</td>\n",
       "      <td>-0.04608</td>\n",
       "      <td>-0.65697</td>\n",
       "      <td>g</td>\n",
       "    </tr>\n",
       "    <tr>\n",
       "      <th>4</th>\n",
       "      <td>1</td>\n",
       "      <td>0</td>\n",
       "      <td>0.02337</td>\n",
       "      <td>-0.00592</td>\n",
       "      <td>-0.09924</td>\n",
       "      <td>-0.11949</td>\n",
       "      <td>-0.00763</td>\n",
       "      <td>-0.11824</td>\n",
       "      <td>0.14706</td>\n",
       "      <td>0.06637</td>\n",
       "      <td>...</td>\n",
       "      <td>-0.01535</td>\n",
       "      <td>-0.03240</td>\n",
       "      <td>0.09223</td>\n",
       "      <td>-0.07859</td>\n",
       "      <td>0.00732</td>\n",
       "      <td>0.00000</td>\n",
       "      <td>0.00000</td>\n",
       "      <td>-0.00039</td>\n",
       "      <td>0.12011</td>\n",
       "      <td>b</td>\n",
       "    </tr>\n",
       "    <tr>\n",
       "      <th>...</th>\n",
       "      <td>...</td>\n",
       "      <td>...</td>\n",
       "      <td>...</td>\n",
       "      <td>...</td>\n",
       "      <td>...</td>\n",
       "      <td>...</td>\n",
       "      <td>...</td>\n",
       "      <td>...</td>\n",
       "      <td>...</td>\n",
       "      <td>...</td>\n",
       "      <td>...</td>\n",
       "      <td>...</td>\n",
       "      <td>...</td>\n",
       "      <td>...</td>\n",
       "      <td>...</td>\n",
       "      <td>...</td>\n",
       "      <td>...</td>\n",
       "      <td>...</td>\n",
       "      <td>...</td>\n",
       "      <td>...</td>\n",
       "      <td>...</td>\n",
       "    </tr>\n",
       "    <tr>\n",
       "      <th>345</th>\n",
       "      <td>1</td>\n",
       "      <td>0</td>\n",
       "      <td>0.83508</td>\n",
       "      <td>0.08298</td>\n",
       "      <td>0.73739</td>\n",
       "      <td>-0.14706</td>\n",
       "      <td>0.84349</td>\n",
       "      <td>-0.05567</td>\n",
       "      <td>0.90441</td>\n",
       "      <td>-0.04622</td>\n",
       "      <td>...</td>\n",
       "      <td>-0.04202</td>\n",
       "      <td>0.83479</td>\n",
       "      <td>0.00123</td>\n",
       "      <td>1.00000</td>\n",
       "      <td>0.12815</td>\n",
       "      <td>0.86660</td>\n",
       "      <td>-0.10714</td>\n",
       "      <td>0.90546</td>\n",
       "      <td>-0.04307</td>\n",
       "      <td>g</td>\n",
       "    </tr>\n",
       "    <tr>\n",
       "      <th>346</th>\n",
       "      <td>1</td>\n",
       "      <td>0</td>\n",
       "      <td>0.95113</td>\n",
       "      <td>0.00419</td>\n",
       "      <td>0.95183</td>\n",
       "      <td>-0.02723</td>\n",
       "      <td>0.93438</td>\n",
       "      <td>-0.01920</td>\n",
       "      <td>0.94590</td>\n",
       "      <td>0.01606</td>\n",
       "      <td>...</td>\n",
       "      <td>0.01361</td>\n",
       "      <td>0.93522</td>\n",
       "      <td>0.04925</td>\n",
       "      <td>0.93159</td>\n",
       "      <td>0.08168</td>\n",
       "      <td>0.94066</td>\n",
       "      <td>-0.00035</td>\n",
       "      <td>0.91483</td>\n",
       "      <td>0.04712</td>\n",
       "      <td>g</td>\n",
       "    </tr>\n",
       "    <tr>\n",
       "      <th>347</th>\n",
       "      <td>1</td>\n",
       "      <td>0</td>\n",
       "      <td>0.94701</td>\n",
       "      <td>-0.00034</td>\n",
       "      <td>0.93207</td>\n",
       "      <td>-0.03227</td>\n",
       "      <td>0.95177</td>\n",
       "      <td>-0.03431</td>\n",
       "      <td>0.95584</td>\n",
       "      <td>0.02446</td>\n",
       "      <td>...</td>\n",
       "      <td>0.03193</td>\n",
       "      <td>0.92489</td>\n",
       "      <td>0.02542</td>\n",
       "      <td>0.92120</td>\n",
       "      <td>0.02242</td>\n",
       "      <td>0.92459</td>\n",
       "      <td>0.00442</td>\n",
       "      <td>0.92697</td>\n",
       "      <td>-0.00577</td>\n",
       "      <td>g</td>\n",
       "    </tr>\n",
       "    <tr>\n",
       "      <th>348</th>\n",
       "      <td>1</td>\n",
       "      <td>0</td>\n",
       "      <td>0.90608</td>\n",
       "      <td>-0.01657</td>\n",
       "      <td>0.98122</td>\n",
       "      <td>-0.01989</td>\n",
       "      <td>0.95691</td>\n",
       "      <td>-0.03646</td>\n",
       "      <td>0.85746</td>\n",
       "      <td>0.00110</td>\n",
       "      <td>...</td>\n",
       "      <td>-0.02099</td>\n",
       "      <td>0.89147</td>\n",
       "      <td>-0.07760</td>\n",
       "      <td>0.82983</td>\n",
       "      <td>-0.17238</td>\n",
       "      <td>0.96022</td>\n",
       "      <td>-0.03757</td>\n",
       "      <td>0.87403</td>\n",
       "      <td>-0.16243</td>\n",
       "      <td>g</td>\n",
       "    </tr>\n",
       "    <tr>\n",
       "      <th>349</th>\n",
       "      <td>1</td>\n",
       "      <td>0</td>\n",
       "      <td>0.84710</td>\n",
       "      <td>0.13533</td>\n",
       "      <td>0.73638</td>\n",
       "      <td>-0.06151</td>\n",
       "      <td>0.87873</td>\n",
       "      <td>0.08260</td>\n",
       "      <td>0.88928</td>\n",
       "      <td>-0.09139</td>\n",
       "      <td>...</td>\n",
       "      <td>-0.15114</td>\n",
       "      <td>0.81147</td>\n",
       "      <td>-0.04822</td>\n",
       "      <td>0.78207</td>\n",
       "      <td>-0.00703</td>\n",
       "      <td>0.75747</td>\n",
       "      <td>-0.06678</td>\n",
       "      <td>0.85764</td>\n",
       "      <td>-0.06151</td>\n",
       "      <td>g</td>\n",
       "    </tr>\n",
       "  </tbody>\n",
       "</table>\n",
       "<p>350 rows × 35 columns</p>\n",
       "</div>"
      ],
      "text/plain": [
       "     column1  column2  column3  column4  column5  column6  column7  column8  \\\n",
       "0          1        0  1.00000 -0.18829  0.93035 -0.36156 -0.10868 -0.93597   \n",
       "1          1        0  1.00000 -0.03365  1.00000  0.00485  1.00000 -0.12062   \n",
       "2          1        0  1.00000 -0.45161  1.00000  1.00000  0.71216 -1.00000   \n",
       "3          1        0  1.00000 -0.02401  0.94140  0.06531  0.92106 -0.23255   \n",
       "4          1        0  0.02337 -0.00592 -0.09924 -0.11949 -0.00763 -0.11824   \n",
       "..       ...      ...      ...      ...      ...      ...      ...      ...   \n",
       "345        1        0  0.83508  0.08298  0.73739 -0.14706  0.84349 -0.05567   \n",
       "346        1        0  0.95113  0.00419  0.95183 -0.02723  0.93438 -0.01920   \n",
       "347        1        0  0.94701 -0.00034  0.93207 -0.03227  0.95177 -0.03431   \n",
       "348        1        0  0.90608 -0.01657  0.98122 -0.01989  0.95691 -0.03646   \n",
       "349        1        0  0.84710  0.13533  0.73638 -0.06151  0.87873  0.08260   \n",
       "\n",
       "     column9  column10  ...  column26  column27  column28  column29  column30  \\\n",
       "0    1.00000  -0.04549  ...  -0.26569  -0.20468  -0.18401  -0.19040  -0.11593   \n",
       "1    0.88965   0.01198  ...  -0.40220   0.58984  -0.22145   0.43100  -0.17365   \n",
       "2    0.00000   0.00000  ...   0.90695   0.51613   1.00000   1.00000  -0.20099   \n",
       "3    0.77152  -0.16399  ...  -0.65158   0.13290  -0.53206   0.02431  -0.62197   \n",
       "4    0.14706   0.06637  ...  -0.01535  -0.03240   0.09223  -0.07859   0.00732   \n",
       "..       ...       ...  ...       ...       ...       ...       ...       ...   \n",
       "345  0.90441  -0.04622  ...  -0.04202   0.83479   0.00123   1.00000   0.12815   \n",
       "346  0.94590   0.01606  ...   0.01361   0.93522   0.04925   0.93159   0.08168   \n",
       "347  0.95584   0.02446  ...   0.03193   0.92489   0.02542   0.92120   0.02242   \n",
       "348  0.85746   0.00110  ...  -0.02099   0.89147  -0.07760   0.82983  -0.17238   \n",
       "349  0.88928  -0.09139  ...  -0.15114   0.81147  -0.04822   0.78207  -0.00703   \n",
       "\n",
       "     column31  column32  column33  column34  column35  \n",
       "0    -0.16626  -0.06288  -0.13738  -0.02447         b  \n",
       "1     0.60436  -0.24180   0.56045  -0.38238         g  \n",
       "2     0.25682   1.00000  -0.32382   1.00000         b  \n",
       "3    -0.05707  -0.59573  -0.04608  -0.65697         g  \n",
       "4     0.00000   0.00000  -0.00039   0.12011         b  \n",
       "..        ...       ...       ...       ...       ...  \n",
       "345   0.86660  -0.10714   0.90546  -0.04307         g  \n",
       "346   0.94066  -0.00035   0.91483   0.04712         g  \n",
       "347   0.92459   0.00442   0.92697  -0.00577         g  \n",
       "348   0.96022  -0.03757   0.87403  -0.16243         g  \n",
       "349   0.75747  -0.06678   0.85764  -0.06151         g  \n",
       "\n",
       "[350 rows x 35 columns]"
      ]
     },
     "execution_count": 4,
     "metadata": {},
     "output_type": "execute_result"
    }
   ],
   "source": [
    "ions"
   ]
  },
  {
   "cell_type": "code",
   "execution_count": 5,
   "metadata": {
    "id": "X6-V2t7rSLVD"
   },
   "outputs": [],
   "source": [
    "s = ions.values[:,2:34]"
   ]
  },
  {
   "cell_type": "code",
   "execution_count": 6,
   "metadata": {
    "colab": {
     "base_uri": "https://localhost:8080/"
    },
    "id": "A6FzoUv8Yrc9",
    "outputId": "b54eb28f-45ec-4a62-dc08-4ea26f7dde6c"
   },
   "outputs": [
    {
     "data": {
      "text/plain": [
       "array([[1.0, -0.18829, 0.93035, ..., -0.06288, -0.13738, -0.02447],\n",
       "       [1.0, -0.03365, 1.0, ..., -0.2418, 0.56045, -0.38238],\n",
       "       [1.0, -0.45161, 1.0, ..., 1.0, -0.32382, 1.0],\n",
       "       ...,\n",
       "       [0.94701, -0.00034, 0.93207, ..., 0.00442, 0.92697, -0.00577],\n",
       "       [0.90608, -0.01657, 0.98122, ..., -0.03757, 0.87403, -0.16243],\n",
       "       [0.8471, 0.13533, 0.73638, ..., -0.06678, 0.85764, -0.06151]],\n",
       "      dtype=object)"
      ]
     },
     "execution_count": 6,
     "metadata": {},
     "output_type": "execute_result"
    }
   ],
   "source": [
    "s"
   ]
  },
  {
   "cell_type": "code",
   "execution_count": 7,
   "metadata": {
    "id": "wjHdJEwUY2It"
   },
   "outputs": [],
   "source": [
    "scr = StandardScaler()"
   ]
  },
  {
   "cell_type": "code",
   "execution_count": 8,
   "metadata": {
    "id": "HfQ6UqPuZKXb"
   },
   "outputs": [],
   "source": [
    "x = scr.fit_transform(s)"
   ]
  },
  {
   "cell_type": "code",
   "execution_count": 9,
   "metadata": {
    "colab": {
     "base_uri": "https://localhost:8080/"
    },
    "id": "S243X_q6ZTdH",
    "outputId": "c6aa1c46-1f39-40b5-dab3-af761106145d"
   },
   "outputs": [
    {
     "data": {
      "text/plain": [
       "array([[ 0.72317624, -0.52776806,  0.63499771, ..., -0.11824737,\n",
       "        -0.93229623, -0.08614177],\n",
       "       [ 0.72317624, -0.17742837,  0.7690206 , ..., -0.46718457,\n",
       "         0.40303208, -0.85144926],\n",
       "       [ 0.72317624, -1.12432424,  0.7690206 , ...,  1.95462525,\n",
       "        -1.28905735,  2.1044496 ],\n",
       "       ...,\n",
       "       [ 0.61663096, -0.10196397,  0.63830739, ...,  0.01300388,\n",
       "         1.10438418, -0.04615616],\n",
       "       [ 0.53433434, -0.13873333,  0.73288349, ..., -0.06888676,\n",
       "         1.00308117, -0.38113722],\n",
       "       [ 0.41574516,  0.20539885,  0.26175408, ..., -0.12585332,\n",
       "         0.97171818, -0.16534322]])"
      ]
     },
     "execution_count": 9,
     "metadata": {},
     "output_type": "execute_result"
    }
   ],
   "source": [
    "x"
   ]
  },
  {
   "cell_type": "code",
   "execution_count": 10,
   "metadata": {
    "id": "xq3VoFVpZXxE"
   },
   "outputs": [],
   "source": [
    "y = ions['column35']"
   ]
  },
  {
   "cell_type": "code",
   "execution_count": 11,
   "metadata": {
    "colab": {
     "base_uri": "https://localhost:8080/"
    },
    "id": "7NDpL-DQZ15i",
    "outputId": "7034db8e-65e6-4d20-d5cd-0885da578138"
   },
   "outputs": [
    {
     "data": {
      "text/plain": [
       "0      b\n",
       "1      g\n",
       "2      b\n",
       "3      g\n",
       "4      b\n",
       "      ..\n",
       "345    g\n",
       "346    g\n",
       "347    g\n",
       "348    g\n",
       "349    g\n",
       "Name: column35, Length: 350, dtype: object"
      ]
     },
     "execution_count": 11,
     "metadata": {},
     "output_type": "execute_result"
    }
   ],
   "source": [
    "y"
   ]
  },
  {
   "cell_type": "code",
   "execution_count": 12,
   "metadata": {
    "colab": {
     "base_uri": "https://localhost:8080/"
    },
    "id": "xh2Kn08JZ5f2",
    "outputId": "ac1a14d2-9b11-4023-ed4a-01fc34d8b421"
   },
   "outputs": [
    {
     "name": "stdout",
     "output_type": "stream",
     "text": [
      "(280, 32)\n",
      "(280,)\n",
      "(70, 32)\n",
      "(70,)\n"
     ]
    }
   ],
   "source": [
    "xtrain,xtest,ytrain,ytest = train_test_split(x,y,random_state=1,test_size=0.2)\n",
    "print(xtrain.shape)\n",
    "print(ytrain.shape)\n",
    "print(xtest.shape)\n",
    "print(ytest.shape)"
   ]
  },
  {
   "cell_type": "code",
   "execution_count": 13,
   "metadata": {},
   "outputs": [],
   "source": [
    "from sklearn.linear_model import LogisticRegression\n",
    "log_reg = LogisticRegression(random_state=0)"
   ]
  },
  {
   "cell_type": "code",
   "execution_count": 14,
   "metadata": {},
   "outputs": [],
   "source": [
    "log_reg.fit(xtrain,ytrain)\n",
    "ypre = log_reg.predict(xtest)"
   ]
  },
  {
   "cell_type": "code",
   "execution_count": 15,
   "metadata": {},
   "outputs": [
    {
     "name": "stdout",
     "output_type": "stream",
     "text": [
      "[[17  6]\n",
      " [ 2 45]]\n"
     ]
    }
   ],
   "source": [
    "print(confusion_matrix(ytest,ypre))"
   ]
  },
  {
   "cell_type": "code",
   "execution_count": 16,
   "metadata": {},
   "outputs": [
    {
     "name": "stdout",
     "output_type": "stream",
     "text": [
      "              precision    recall  f1-score   support\n",
      "\n",
      "           b       0.89      0.74      0.81        23\n",
      "           g       0.88      0.96      0.92        47\n",
      "\n",
      "    accuracy                           0.89        70\n",
      "   macro avg       0.89      0.85      0.86        70\n",
      "weighted avg       0.89      0.89      0.88        70\n",
      "\n"
     ]
    }
   ],
   "source": [
    "print(classification_report(ytest,ypre))"
   ]
  },
  {
   "cell_type": "code",
   "execution_count": 17,
   "metadata": {},
   "outputs": [
    {
     "name": "stdout",
     "output_type": "stream",
     "text": [
      "0.8857142857142857\n"
     ]
    },
    {
     "data": {
      "text/plain": [
       "88.57142857142857"
      ]
     },
     "execution_count": 17,
     "metadata": {},
     "output_type": "execute_result"
    }
   ],
   "source": [
    "print(accuracy_score(ytest,ypre))\n",
    "score = accuracy_score(ytest,ypre)*100\n",
    "score"
   ]
  },
  {
   "cell_type": "code",
   "execution_count": 18,
   "metadata": {},
   "outputs": [
    {
     "name": "stdout",
     "output_type": "stream",
     "text": [
      "THE ACCURACY SCORE FOR IONOSPHERE DATA BY LOGISTIC REGRESSION ALGORITHM IS: 88.57142857142857\n"
     ]
    }
   ],
   "source": [
    "print('THE ACCURACY SCORE FOR IONOSPHERE DATA BY LOGISTIC REGRESSION ALGORITHM IS:',score)"
   ]
  },
  {
   "cell_type": "code",
   "execution_count": 19,
   "metadata": {},
   "outputs": [],
   "source": [
    "from sklearn.ensemble import RandomForestClassifier"
   ]
  },
  {
   "cell_type": "code",
   "execution_count": 20,
   "metadata": {},
   "outputs": [
    {
     "data": {
      "text/plain": [
       "RandomForestClassifier(n_estimators=10)"
      ]
     },
     "execution_count": 20,
     "metadata": {},
     "output_type": "execute_result"
    }
   ],
   "source": [
    "clfr=RandomForestClassifier(n_estimators=10,criterion='gini')\n",
    "clfr.fit(xtrain,ytrain)"
   ]
  },
  {
   "cell_type": "code",
   "execution_count": 21,
   "metadata": {},
   "outputs": [],
   "source": [
    "ypre=clfr.predict(xtest)"
   ]
  },
  {
   "cell_type": "code",
   "execution_count": 22,
   "metadata": {},
   "outputs": [
    {
     "name": "stdout",
     "output_type": "stream",
     "text": [
      "Confusion matrix output: \n"
     ]
    },
    {
     "data": {
      "text/plain": [
       "array([[21,  2],\n",
       "       [ 4, 43]], dtype=int64)"
      ]
     },
     "execution_count": 22,
     "metadata": {},
     "output_type": "execute_result"
    }
   ],
   "source": [
    "output=confusion_matrix(ytest,ypre)\n",
    "print('Confusion matrix output: ')\n",
    "output"
   ]
  },
  {
   "cell_type": "code",
   "execution_count": 23,
   "metadata": {},
   "outputs": [
    {
     "name": "stdout",
     "output_type": "stream",
     "text": [
      "Classification report\n",
      "              precision    recall  f1-score   support\n",
      "\n",
      "           b       0.84      0.91      0.87        23\n",
      "           g       0.96      0.91      0.93        47\n",
      "\n",
      "    accuracy                           0.91        70\n",
      "   macro avg       0.90      0.91      0.90        70\n",
      "weighted avg       0.92      0.91      0.92        70\n",
      "\n"
     ]
    }
   ],
   "source": [
    "output1=classification_report(ytest,ypre)\n",
    "print('Classification report')\n",
    "print(output1)"
   ]
  },
  {
   "cell_type": "code",
   "execution_count": 24,
   "metadata": {},
   "outputs": [
    {
     "name": "stdout",
     "output_type": "stream",
     "text": [
      "91.42857142857143\n"
     ]
    }
   ],
   "source": [
    "output2=accuracy_score(ytest,ypre)*100\n",
    "print(output2)"
   ]
  },
  {
   "cell_type": "code",
   "execution_count": 25,
   "metadata": {},
   "outputs": [
    {
     "name": "stdout",
     "output_type": "stream",
     "text": [
      "THE ACCURACY SCORE FOR IONOSPHERE DATA BY RANDOM FOREST CLASSIFIER ALGORITHM IS: 91.42857142857143\n"
     ]
    }
   ],
   "source": [
    "print('THE ACCURACY SCORE FOR IONOSPHERE DATA BY RANDOM FOREST CLASSIFIER ALGORITHM IS:',output2)"
   ]
  },
  {
   "cell_type": "code",
   "execution_count": 26,
   "metadata": {},
   "outputs": [],
   "source": [
    "a = pd.Series([ 'RANDOM FOREST CLASSIFIER ALGORITHM' ,'LOGISTIC REGRESSION ALGORITHM'])"
   ]
  },
  {
   "cell_type": "code",
   "execution_count": 27,
   "metadata": {},
   "outputs": [],
   "source": [
    "b = np.array([91.42857142857143,88.57142857142857])"
   ]
  },
  {
   "cell_type": "code",
   "execution_count": 28,
   "metadata": {},
   "outputs": [],
   "source": [
    "c ={'ALGORITHMS':a,'ACCURACY SCORES':b}"
   ]
  },
  {
   "cell_type": "code",
   "execution_count": 29,
   "metadata": {},
   "outputs": [],
   "source": [
    "d = pd.DataFrame(c)"
   ]
  },
  {
   "cell_type": "code",
   "execution_count": 30,
   "metadata": {},
   "outputs": [
    {
     "data": {
      "text/html": [
       "<div>\n",
       "<style scoped>\n",
       "    .dataframe tbody tr th:only-of-type {\n",
       "        vertical-align: middle;\n",
       "    }\n",
       "\n",
       "    .dataframe tbody tr th {\n",
       "        vertical-align: top;\n",
       "    }\n",
       "\n",
       "    .dataframe thead th {\n",
       "        text-align: right;\n",
       "    }\n",
       "</style>\n",
       "<table border=\"1\" class=\"dataframe\">\n",
       "  <thead>\n",
       "    <tr style=\"text-align: right;\">\n",
       "      <th></th>\n",
       "      <th>ALGORITHMS</th>\n",
       "      <th>ACCURACY SCORES</th>\n",
       "    </tr>\n",
       "  </thead>\n",
       "  <tbody>\n",
       "    <tr>\n",
       "      <th>0</th>\n",
       "      <td>RANDOM FOREST CLASSIFIER ALGORITHM</td>\n",
       "      <td>91.428571</td>\n",
       "    </tr>\n",
       "    <tr>\n",
       "      <th>1</th>\n",
       "      <td>LOGISTIC REGRESSION ALGORITHM</td>\n",
       "      <td>88.571429</td>\n",
       "    </tr>\n",
       "  </tbody>\n",
       "</table>\n",
       "</div>"
      ],
      "text/plain": [
       "                           ALGORITHMS  ACCURACY SCORES\n",
       "0  RANDOM FOREST CLASSIFIER ALGORITHM        91.428571\n",
       "1       LOGISTIC REGRESSION ALGORITHM        88.571429"
      ]
     },
     "execution_count": 30,
     "metadata": {},
     "output_type": "execute_result"
    }
   ],
   "source": [
    "d"
   ]
  },
  {
   "cell_type": "code",
   "execution_count": 31,
   "metadata": {},
   "outputs": [
    {
     "data": {
      "text/plain": [
       "[Text(0, 0, 'RANDOM FOREST CLASSIFIER ALGORITHM'),\n",
       " Text(1, 0, 'LOGISTIC REGRESSION ALGORITHM')]"
      ]
     },
     "execution_count": 31,
     "metadata": {},
     "output_type": "execute_result"
    },
    {
     "data": {
      "image/png": "[encoded data removed]",
      "text/plain": [
       "<Figure size 1080x360 with 1 Axes>"
      ]
     },
     "metadata": {},
     "output_type": "display_data"
    }
   ],
   "source": [
    "import seaborn as sns\n",
    "sns.set()\n",
    "sns.set(rc={'figure.figsize':(15,5)})\n",
    "ax = sns.barplot(x='ALGORITHMS',y='ACCURACY SCORES',data=d)\n",
    "ax.set_xticklabels(ax.get_xticklabels(),rotation = 0)"
   ]
  },
  {
   "cell_type": "code",
   "execution_count": null,
   "metadata": {},
   "outputs": [],
   "source": []
  }
 ],
 "metadata": {
  "colab": {
   "provenance": []
  },
  "kernelspec": {
   "display_name": "Python 3 (ipykernel)",
   "language": "python",
   "name": "python3"
  },
  "language_info": {
   "codemirror_mode": {
    "name": "ipython",
    "version": 3
   },
   "file_extension": ".py",
   "mimetype": "text/x-python",
   "name": "python",
   "nbconvert_exporter": "python",
   "pygments_lexer": "ipython3",
   "version": "3.9.7"
  }
 },
 "nbformat": 4,
 "nbformat_minor": 1
}
